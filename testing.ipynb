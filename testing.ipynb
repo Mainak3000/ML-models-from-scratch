{
 "cells": [
  {
   "cell_type": "code",
   "execution_count": 1,
   "id": "4fd064c3",
   "metadata": {},
   "outputs": [],
   "source": [
    "import numpy as np\n",
    "import pandas as pd"
   ]
  },
  {
   "cell_type": "code",
   "execution_count": 2,
   "id": "5c637d8e",
   "metadata": {},
   "outputs": [],
   "source": [
    "X = [[1], [2], [3], [4], [5], [6]]"
   ]
  },
  {
   "cell_type": "code",
   "execution_count": 3,
   "id": "4b3923b0",
   "metadata": {},
   "outputs": [],
   "source": [
    "y = [1,2,3,4,5,6]"
   ]
  },
  {
   "cell_type": "code",
   "execution_count": 5,
   "id": "a1100a47",
   "metadata": {},
   "outputs": [],
   "source": [
    "X = np.array(X)\n",
    "y = np.array(y)"
   ]
  },
  {
   "cell_type": "code",
   "execution_count": 7,
   "id": "77feec1a",
   "metadata": {},
   "outputs": [],
   "source": [
    "indices = np.arange(len(X))"
   ]
  },
  {
   "cell_type": "code",
   "execution_count": 8,
   "id": "9d222f27",
   "metadata": {},
   "outputs": [],
   "source": [
    "np.random.seed(42)\n",
    "np.random.shuffle(indices)"
   ]
  },
  {
   "cell_type": "code",
   "execution_count": 9,
   "id": "f86ff561",
   "metadata": {},
   "outputs": [
    {
     "data": {
      "text/plain": [
       "array([0, 1, 5, 2, 4, 3])"
      ]
     },
     "execution_count": 9,
     "metadata": {},
     "output_type": "execute_result"
    }
   ],
   "source": [
    "indices"
   ]
  },
  {
   "cell_type": "code",
   "execution_count": 10,
   "id": "3f08b3cf",
   "metadata": {},
   "outputs": [],
   "source": [
    "test_count = int(len(X)*0.33)"
   ]
  },
  {
   "cell_type": "code",
   "execution_count": 11,
   "id": "ece9466a",
   "metadata": {},
   "outputs": [],
   "source": [
    "test_indices = indices[:test_count]"
   ]
  },
  {
   "cell_type": "code",
   "execution_count": 12,
   "id": "7505ddee",
   "metadata": {},
   "outputs": [
    {
     "data": {
      "text/plain": [
       "array([0])"
      ]
     },
     "execution_count": 12,
     "metadata": {},
     "output_type": "execute_result"
    }
   ],
   "source": [
    "test_indices"
   ]
  },
  {
   "cell_type": "code",
   "execution_count": 16,
   "id": "7d4ce000",
   "metadata": {},
   "outputs": [
    {
     "data": {
      "text/plain": [
       "array([[4],\n",
       "       [3],\n",
       "       [6],\n",
       "       [2],\n",
       "       [1]])"
      ]
     },
     "execution_count": 16,
     "metadata": {},
     "output_type": "execute_result"
    }
   ],
   "source": [
    "X[[3,2,5,1, 0]]"
   ]
  },
  {
   "cell_type": "code",
   "execution_count": 5,
   "id": "ba4ff4af",
   "metadata": {},
   "outputs": [],
   "source": [
    "df = pd.read_csv(\"/data2/mainaksaha/000_Model_Building/data/Advertising.csv\")"
   ]
  },
  {
   "cell_type": "code",
   "execution_count": 6,
   "id": "d9ef8a64",
   "metadata": {},
   "outputs": [],
   "source": [
    "from mklearn.linear_model import Lasso\n",
    "from mklearn.model_selection import train_test_split\n",
    "from mklearn.preprocessing import StandardScaler\n",
    "from mklearn.svm import SVC"
   ]
  },
  {
   "cell_type": "code",
   "execution_count": 7,
   "id": "ebdfcd58",
   "metadata": {},
   "outputs": [
    {
     "data": {
      "text/html": [
       "<div>\n",
       "<style scoped>\n",
       "    .dataframe tbody tr th:only-of-type {\n",
       "        vertical-align: middle;\n",
       "    }\n",
       "\n",
       "    .dataframe tbody tr th {\n",
       "        vertical-align: top;\n",
       "    }\n",
       "\n",
       "    .dataframe thead th {\n",
       "        text-align: right;\n",
       "    }\n",
       "</style>\n",
       "<table border=\"1\" class=\"dataframe\">\n",
       "  <thead>\n",
       "    <tr style=\"text-align: right;\">\n",
       "      <th></th>\n",
       "      <th>TV</th>\n",
       "      <th>Radio</th>\n",
       "      <th>Newspaper</th>\n",
       "      <th>Sales</th>\n",
       "    </tr>\n",
       "  </thead>\n",
       "  <tbody>\n",
       "    <tr>\n",
       "      <th>0</th>\n",
       "      <td>230.1</td>\n",
       "      <td>37.8</td>\n",
       "      <td>69.2</td>\n",
       "      <td>22.1</td>\n",
       "    </tr>\n",
       "    <tr>\n",
       "      <th>1</th>\n",
       "      <td>44.5</td>\n",
       "      <td>39.3</td>\n",
       "      <td>45.1</td>\n",
       "      <td>10.4</td>\n",
       "    </tr>\n",
       "    <tr>\n",
       "      <th>2</th>\n",
       "      <td>17.2</td>\n",
       "      <td>45.9</td>\n",
       "      <td>69.3</td>\n",
       "      <td>9.3</td>\n",
       "    </tr>\n",
       "    <tr>\n",
       "      <th>3</th>\n",
       "      <td>151.5</td>\n",
       "      <td>41.3</td>\n",
       "      <td>58.5</td>\n",
       "      <td>18.5</td>\n",
       "    </tr>\n",
       "    <tr>\n",
       "      <th>4</th>\n",
       "      <td>180.8</td>\n",
       "      <td>10.8</td>\n",
       "      <td>58.4</td>\n",
       "      <td>12.9</td>\n",
       "    </tr>\n",
       "  </tbody>\n",
       "</table>\n",
       "</div>"
      ],
      "text/plain": [
       "      TV  Radio  Newspaper  Sales\n",
       "0  230.1   37.8       69.2   22.1\n",
       "1   44.5   39.3       45.1   10.4\n",
       "2   17.2   45.9       69.3    9.3\n",
       "3  151.5   41.3       58.5   18.5\n",
       "4  180.8   10.8       58.4   12.9"
      ]
     },
     "execution_count": 7,
     "metadata": {},
     "output_type": "execute_result"
    }
   ],
   "source": [
    "df.head()"
   ]
  },
  {
   "cell_type": "code",
   "execution_count": 8,
   "id": "bf5e10e2",
   "metadata": {},
   "outputs": [
    {
     "data": {
      "text/plain": [
       "(200, 4)"
      ]
     },
     "execution_count": 8,
     "metadata": {},
     "output_type": "execute_result"
    }
   ],
   "source": [
    "df.shape"
   ]
  },
  {
   "cell_type": "code",
   "execution_count": 9,
   "id": "e4eef221",
   "metadata": {},
   "outputs": [],
   "source": [
    "X = df.drop('Sales', axis=1)\n",
    "y = df['Sales']"
   ]
  },
  {
   "cell_type": "code",
   "execution_count": 10,
   "id": "023098fb",
   "metadata": {},
   "outputs": [],
   "source": [
    "X_train, X_test, y_train, y_test = train_test_split(X, y, test_size=0.3, random_state=32)"
   ]
  },
  {
   "cell_type": "code",
   "execution_count": 11,
   "id": "5ccea8b6",
   "metadata": {},
   "outputs": [],
   "source": [
    "scaler = StandardScaler()"
   ]
  },
  {
   "cell_type": "code",
   "execution_count": 12,
   "id": "6d84698b",
   "metadata": {},
   "outputs": [],
   "source": [
    "X_train = scaler.fit_transform(X_train)\n",
    "X_test = scaler.transform(X_test)"
   ]
  },
  {
   "cell_type": "code",
   "execution_count": 13,
   "id": "a5a17d10",
   "metadata": {},
   "outputs": [],
   "source": [
    "model =  Lasso(learning_rate=0.0025, n_iterations=5000, alpha=0.9)"
   ]
  },
  {
   "cell_type": "code",
   "execution_count": 14,
   "id": "3df254b0",
   "metadata": {},
   "outputs": [],
   "source": [
    "model.fit(X_train, y_train)"
   ]
  },
  {
   "cell_type": "code",
   "execution_count": 15,
   "id": "9934ea8a",
   "metadata": {},
   "outputs": [],
   "source": [
    "y_pred = model.predict(X_test)"
   ]
  },
  {
   "cell_type": "code",
   "execution_count": 16,
   "id": "1fffc72e",
   "metadata": {},
   "outputs": [
    {
     "data": {
      "text/plain": [
       "array([13.72606854,  9.71094672, 13.45403419, 23.07610679,  9.14900587,\n",
       "       11.73926592, 10.10537659, 19.61391591,  7.81130574,  6.56009468,\n",
       "       17.19472153, 13.97819104, 20.6560005 , 16.66940971, 12.3122253 ,\n",
       "       12.1009635 ,  7.12657548, 23.32347504, 19.99278575, 15.48773101,\n",
       "       15.24029273,  8.87620541, 14.8144284 , 14.30761075,  8.9241933 ,\n",
       "        8.75426326,  8.58435161, 18.88729943,  9.74087874,  9.91472744,\n",
       "       11.27140556, 10.10613923, 17.76660626, 15.53721989, 12.78969584,\n",
       "       18.34622829, 12.96671193, 13.86309166, 10.72853012,  7.6875776 ,\n",
       "       15.49577298, 15.73269949, 18.40027106, 12.96550498, 21.11685923,\n",
       "       16.6299259 , 19.15616626, 18.15069299, 24.16354512, 18.53336102,\n",
       "       11.75279454,  6.4330037 , 11.80674967,  9.82449328, 17.17098639,\n",
       "       15.08758854,  6.6352209 , 12.94501653, 11.37988726, 15.49786259])"
      ]
     },
     "execution_count": 16,
     "metadata": {},
     "output_type": "execute_result"
    }
   ],
   "source": [
    "y_pred"
   ]
  },
  {
   "cell_type": "code",
   "execution_count": 20,
   "id": "735e0630",
   "metadata": {},
   "outputs": [
    {
     "data": {
      "text/plain": [
       "np.float64(15.014274851849915)"
      ]
     },
     "execution_count": 20,
     "metadata": {},
     "output_type": "execute_result"
    }
   ],
   "source": [
    "np.sqrt((y_test-y_pred).dot(y_test-y_pred) )"
   ]
  },
  {
   "cell_type": "code",
   "execution_count": 21,
   "id": "0f2ea35c",
   "metadata": {},
   "outputs": [
    {
     "data": {
      "text/plain": [
       "array([11.6, 10.3, 12.2, 23.8, 10.5,  8.7, 11.4, 18.9,  7. ,  8.7, 15.9,\n",
       "       12.2, 21.5, 15.5,  9.3, 11.7,  8.7, 24.4, 19.8, 15.9, 15. , 10.6,\n",
       "       12.5, 14.4,  8.5, 10.4,  5.5, 15.9, 11. , 11. , 11.9, 11.3, 14.8,\n",
       "       12.7, 11.7, 19.2, 12.6, 11.5,  1.6,  9.5, 15.3, 15.6, 19. , 12.8,\n",
       "       22.6, 15.9, 17.4, 15. , 26.2, 19. ,  9.5,  5.6, 12. , 10.3, 17.1,\n",
       "       15.2,  9.4, 13.2, 11.9, 15.5])"
      ]
     },
     "execution_count": 21,
     "metadata": {},
     "output_type": "execute_result"
    }
   ],
   "source": [
    "y_test"
   ]
  },
  {
   "cell_type": "code",
   "execution_count": 2,
   "id": "3b36860d",
   "metadata": {},
   "outputs": [],
   "source": [
    "t = np.array([1,2,3,4])"
   ]
  },
  {
   "cell_type": "code",
   "execution_count": 3,
   "id": "d4097ad2",
   "metadata": {},
   "outputs": [
    {
     "data": {
      "text/plain": [
       "np.int64(30)"
      ]
     },
     "execution_count": 3,
     "metadata": {},
     "output_type": "execute_result"
    }
   ],
   "source": [
    "t.dot(t)"
   ]
  },
  {
   "cell_type": "code",
   "execution_count": 4,
   "id": "92c74476",
   "metadata": {},
   "outputs": [
    {
     "data": {
      "text/plain": [
       "np.int64(30)"
      ]
     },
     "execution_count": 4,
     "metadata": {},
     "output_type": "execute_result"
    }
   ],
   "source": [
    "t.T.dot(t)"
   ]
  },
  {
   "cell_type": "code",
   "execution_count": null,
   "id": "ff2b14d2",
   "metadata": {},
   "outputs": [],
   "source": []
  }
 ],
 "metadata": {
  "kernelspec": {
   "display_name": "Python 3",
   "language": "python",
   "name": "python3"
  },
  "language_info": {
   "codemirror_mode": {
    "name": "ipython",
    "version": 3
   },
   "file_extension": ".py",
   "mimetype": "text/x-python",
   "name": "python",
   "nbconvert_exporter": "python",
   "pygments_lexer": "ipython3",
   "version": "3.9.21"
  }
 },
 "nbformat": 4,
 "nbformat_minor": 5
}
