{
 "cells": [
  {
   "cell_type": "code",
   "execution_count": 1,
   "id": "4fd064c3",
   "metadata": {},
   "outputs": [],
   "source": [
    "import numpy as np\n",
    "import pandas as pd"
   ]
  },
  {
   "cell_type": "code",
   "execution_count": 2,
   "id": "5c637d8e",
   "metadata": {},
   "outputs": [],
   "source": [
    "X = [[1], [2], [3], [4], [5], [6]]"
   ]
  },
  {
   "cell_type": "code",
   "execution_count": 3,
   "id": "4b3923b0",
   "metadata": {},
   "outputs": [],
   "source": [
    "y = [1,2,3,4,5,6]"
   ]
  },
  {
   "cell_type": "code",
   "execution_count": 5,
   "id": "a1100a47",
   "metadata": {},
   "outputs": [],
   "source": [
    "X = np.array(X)\n",
    "y = np.array(y)"
   ]
  },
  {
   "cell_type": "code",
   "execution_count": 7,
   "id": "77feec1a",
   "metadata": {},
   "outputs": [],
   "source": [
    "indices = np.arange(len(X))"
   ]
  },
  {
   "cell_type": "code",
   "execution_count": 8,
   "id": "9d222f27",
   "metadata": {},
   "outputs": [],
   "source": [
    "np.random.seed(42)\n",
    "np.random.shuffle(indices)"
   ]
  },
  {
   "cell_type": "code",
   "execution_count": 9,
   "id": "f86ff561",
   "metadata": {},
   "outputs": [
    {
     "data": {
      "text/plain": [
       "array([0, 1, 5, 2, 4, 3])"
      ]
     },
     "execution_count": 9,
     "metadata": {},
     "output_type": "execute_result"
    }
   ],
   "source": [
    "indices"
   ]
  },
  {
   "cell_type": "code",
   "execution_count": 10,
   "id": "3f08b3cf",
   "metadata": {},
   "outputs": [],
   "source": [
    "test_count = int(len(X)*0.33)"
   ]
  },
  {
   "cell_type": "code",
   "execution_count": 11,
   "id": "ece9466a",
   "metadata": {},
   "outputs": [],
   "source": [
    "test_indices = indices[:test_count]"
   ]
  },
  {
   "cell_type": "code",
   "execution_count": 12,
   "id": "7505ddee",
   "metadata": {},
   "outputs": [
    {
     "data": {
      "text/plain": [
       "array([0])"
      ]
     },
     "execution_count": 12,
     "metadata": {},
     "output_type": "execute_result"
    }
   ],
   "source": [
    "test_indices"
   ]
  },
  {
   "cell_type": "code",
   "execution_count": 16,
   "id": "7d4ce000",
   "metadata": {},
   "outputs": [
    {
     "data": {
      "text/plain": [
       "array([[4],\n",
       "       [3],\n",
       "       [6],\n",
       "       [2],\n",
       "       [1]])"
      ]
     },
     "execution_count": 16,
     "metadata": {},
     "output_type": "execute_result"
    }
   ],
   "source": [
    "X[[3,2,5,1, 0]]"
   ]
  },
  {
   "cell_type": "code",
   "execution_count": 2,
   "id": "ba4ff4af",
   "metadata": {},
   "outputs": [],
   "source": [
    "df = pd.read_csv(\"/data2/mainaksaha/000_Model_Building/data/Advertising.csv\")"
   ]
  },
  {
   "cell_type": "code",
   "execution_count": 3,
   "id": "d9ef8a64",
   "metadata": {},
   "outputs": [],
   "source": [
    "from mklearn.linear_model import LinearRegression\n",
    "from mklearn.model_selection import train_test_split\n",
    "from mklearn.preprocessing import StandardScaler"
   ]
  },
  {
   "cell_type": "code",
   "execution_count": 4,
   "id": "ebdfcd58",
   "metadata": {},
   "outputs": [
    {
     "data": {
      "text/html": [
       "<div>\n",
       "<style scoped>\n",
       "    .dataframe tbody tr th:only-of-type {\n",
       "        vertical-align: middle;\n",
       "    }\n",
       "\n",
       "    .dataframe tbody tr th {\n",
       "        vertical-align: top;\n",
       "    }\n",
       "\n",
       "    .dataframe thead th {\n",
       "        text-align: right;\n",
       "    }\n",
       "</style>\n",
       "<table border=\"1\" class=\"dataframe\">\n",
       "  <thead>\n",
       "    <tr style=\"text-align: right;\">\n",
       "      <th></th>\n",
       "      <th>TV</th>\n",
       "      <th>Radio</th>\n",
       "      <th>Newspaper</th>\n",
       "      <th>Sales</th>\n",
       "    </tr>\n",
       "  </thead>\n",
       "  <tbody>\n",
       "    <tr>\n",
       "      <th>0</th>\n",
       "      <td>230.1</td>\n",
       "      <td>37.8</td>\n",
       "      <td>69.2</td>\n",
       "      <td>22.1</td>\n",
       "    </tr>\n",
       "    <tr>\n",
       "      <th>1</th>\n",
       "      <td>44.5</td>\n",
       "      <td>39.3</td>\n",
       "      <td>45.1</td>\n",
       "      <td>10.4</td>\n",
       "    </tr>\n",
       "    <tr>\n",
       "      <th>2</th>\n",
       "      <td>17.2</td>\n",
       "      <td>45.9</td>\n",
       "      <td>69.3</td>\n",
       "      <td>9.3</td>\n",
       "    </tr>\n",
       "    <tr>\n",
       "      <th>3</th>\n",
       "      <td>151.5</td>\n",
       "      <td>41.3</td>\n",
       "      <td>58.5</td>\n",
       "      <td>18.5</td>\n",
       "    </tr>\n",
       "    <tr>\n",
       "      <th>4</th>\n",
       "      <td>180.8</td>\n",
       "      <td>10.8</td>\n",
       "      <td>58.4</td>\n",
       "      <td>12.9</td>\n",
       "    </tr>\n",
       "  </tbody>\n",
       "</table>\n",
       "</div>"
      ],
      "text/plain": [
       "      TV  Radio  Newspaper  Sales\n",
       "0  230.1   37.8       69.2   22.1\n",
       "1   44.5   39.3       45.1   10.4\n",
       "2   17.2   45.9       69.3    9.3\n",
       "3  151.5   41.3       58.5   18.5\n",
       "4  180.8   10.8       58.4   12.9"
      ]
     },
     "execution_count": 4,
     "metadata": {},
     "output_type": "execute_result"
    }
   ],
   "source": [
    "df.head()"
   ]
  },
  {
   "cell_type": "code",
   "execution_count": 5,
   "id": "bf5e10e2",
   "metadata": {},
   "outputs": [
    {
     "data": {
      "text/plain": [
       "(200, 4)"
      ]
     },
     "execution_count": 5,
     "metadata": {},
     "output_type": "execute_result"
    }
   ],
   "source": [
    "df.shape"
   ]
  },
  {
   "cell_type": "code",
   "execution_count": 6,
   "id": "e4eef221",
   "metadata": {},
   "outputs": [],
   "source": [
    "X = df.drop('Sales', axis=1)\n",
    "y = df['Sales']"
   ]
  },
  {
   "cell_type": "code",
   "execution_count": 15,
   "id": "023098fb",
   "metadata": {},
   "outputs": [],
   "source": [
    "X_train, X_test, y_train, y_test = train_test_split(X, y, test_size=0.3, random_state=32)"
   ]
  },
  {
   "cell_type": "code",
   "execution_count": 16,
   "id": "5ccea8b6",
   "metadata": {},
   "outputs": [],
   "source": [
    "scaler = StandardScaler()"
   ]
  },
  {
   "cell_type": "code",
   "execution_count": 17,
   "id": "6d84698b",
   "metadata": {},
   "outputs": [],
   "source": [
    "X_train = scaler.fit_transform(X_train)\n",
    "X_test = scaler.transform(X_test)"
   ]
  },
  {
   "cell_type": "code",
   "execution_count": 18,
   "id": "a5a17d10",
   "metadata": {},
   "outputs": [],
   "source": [
    "model =  LinearRegression(learning_rate=0.01, n_itenations=5000)"
   ]
  },
  {
   "cell_type": "code",
   "execution_count": 19,
   "id": "3df254b0",
   "metadata": {},
   "outputs": [],
   "source": [
    "model.fit(X_train, y_train)"
   ]
  },
  {
   "cell_type": "code",
   "execution_count": 20,
   "id": "9934ea8a",
   "metadata": {},
   "outputs": [],
   "source": [
    "y_pred = model.predict(X_test)"
   ]
  },
  {
   "cell_type": "code",
   "execution_count": 21,
   "id": "735e0630",
   "metadata": {},
   "outputs": [
    {
     "data": {
      "text/plain": [
       "0.24998401181638902"
      ]
     },
     "execution_count": 21,
     "metadata": {},
     "output_type": "execute_result"
    }
   ],
   "source": [
    "np.sqrt((y_test-y_pred).T.dot(y_test-y_pred))/len(y_test)"
   ]
  },
  {
   "cell_type": "code",
   "execution_count": 22,
   "id": "0f2ea35c",
   "metadata": {},
   "outputs": [
    {
     "data": {
      "text/plain": [
       "array([18. ,  8.6, 24.7, 16.6,  7.2, 20.7, 18. , 13.4,  9.2,  9.7, 16. ,\n",
       "       12.5, 17.3, 22.2, 23.7, 23.8, 10.1, 17.1, 14.9, 25.5, 21.4, 14.6,\n",
       "       20.8,  7.3, 14.7,  5.3, 25.4, 11.6,  8.4, 23.2, 10.4, 20.2, 22.4,\n",
       "       11.8, 12.2, 14. , 22.3,  5.7, 13.6,  3.2, 14.8,  9.7, 14.6, 13.3,\n",
       "        9.9, 19.4, 12.6,  8.1, 18.4,  4.8, 14.7,  9.5,  8.8, 10.9, 15.2,\n",
       "       17.2, 17.6, 14.1, 27. ,  5.9, 10.9, 10.1,  9.6,  8.8, 16.9,  6.6,\n",
       "       19.6, 10.5,  6.7,  9.7, 13.2,  7.2, 18.3, 13.2,  6.9,  9.7, 16.1,\n",
       "       21.2,  5.3,  6.6, 22.1, 10.7, 10.6, 20.1, 12. , 11.8, 11.6, 12.3,\n",
       "       21.7, 18.9, 19.2, 25.4, 13.4, 11.9, 21.8, 16.6, 12.9, 24.2, 17. ,\n",
       "       11.4,  7.3,  7.6, 11.5, 13.4, 10.8, 14.5, 18. , 11.2, 22.6, 10.1,\n",
       "       15.5, 17.3, 15.7, 17.4, 14.2,  8. , 11.7, 11.7, 11.8,  9.6, 11.3,\n",
       "       20.7,  9.7, 12.8, 14.9,  9.3,  7.6, 20.7, 12.9, 10.6, 18.5, 16.7,\n",
       "       12.4, 25.4, 12.9, 10.8, 19.7, 20.2, 19.6, 12.9])"
      ]
     },
     "execution_count": 22,
     "metadata": {},
     "output_type": "execute_result"
    }
   ],
   "source": [
    "y_train"
   ]
  },
  {
   "cell_type": "code",
   "execution_count": 23,
   "id": "a380a159",
   "metadata": {},
   "outputs": [
    {
     "data": {
      "text/plain": [
       "0      22.1\n",
       "1      10.4\n",
       "2       9.3\n",
       "3      18.5\n",
       "4      12.9\n",
       "       ... \n",
       "195     7.6\n",
       "196     9.7\n",
       "197    12.8\n",
       "198    25.5\n",
       "199    13.4\n",
       "Name: Sales, Length: 200, dtype: float64"
      ]
     },
     "execution_count": 23,
     "metadata": {},
     "output_type": "execute_result"
    }
   ],
   "source": [
    "df['Sales']"
   ]
  }
 ],
 "metadata": {
  "kernelspec": {
   "display_name": "Python 3",
   "language": "python",
   "name": "python3"
  },
  "language_info": {
   "codemirror_mode": {
    "name": "ipython",
    "version": 3
   },
   "file_extension": ".py",
   "mimetype": "text/x-python",
   "name": "python",
   "nbconvert_exporter": "python",
   "pygments_lexer": "ipython3",
   "version": "3.9.0"
  }
 },
 "nbformat": 4,
 "nbformat_minor": 5
}
